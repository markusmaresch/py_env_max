{
 "cells": [
  {
   "cell_type": "code",
   "execution_count": 54,
   "id": "5b9ef856-30b4-4443-bec3-9ee420b0c747",
   "metadata": {},
   "outputs": [],
   "source": [
    "import tinydb"
   ]
  },
  {
   "cell_type": "code",
   "execution_count": 55,
   "id": "8ffb2afc-c72e-41f3-ae14-11010eb9cb7b",
   "metadata": {},
   "outputs": [
    {
     "name": "stdout",
     "output_type": "stream",
     "text": [
      "4.7.0\n"
     ]
    }
   ],
   "source": [
    "print(tinydb.__version__)"
   ]
  },
  {
   "cell_type": "code",
   "execution_count": 56,
   "id": "2cf937b3-600f-48f0-9337-5567a72449c5",
   "metadata": {},
   "outputs": [
    {
     "name": "stdout",
     "output_type": "stream",
     "text": [
      "<TinyDB tables=['fruits', '_default'], tables_count=2, default_table_documents_count=1, all_tables_documents_count=['fruits=3', '_default=1']>\n"
     ]
    }
   ],
   "source": [
    "db = tinydb.TinyDB('db.json')\n",
    "print (db)"
   ]
  },
  {
   "cell_type": "code",
   "execution_count": 57,
   "id": "4a3f3af4-47be-4ab4-aa89-ca7d3d228880",
   "metadata": {},
   "outputs": [
    {
     "name": "stdout",
     "output_type": "stream",
     "text": [
      "<TinyDB tables=['fruits', '_default'], tables_count=2, default_table_documents_count=3, all_tables_documents_count=['fruits=3', '_default=3']>\n"
     ]
    }
   ],
   "source": [
    "db.insert({'name': 'John', 'rank': 2})\n",
    "\n",
    "db.insert({'name': 'Peter', 'rank': 1})\n",
    "\n",
    "print (db)"
   ]
  },
  {
   "cell_type": "code",
   "execution_count": null,
   "id": "a16edefa-ffa4-48ca-a105-0b59449aa581",
   "metadata": {},
   "outputs": [],
   "source": []
  },
  {
   "cell_type": "code",
   "execution_count": 58,
   "id": "8669f02c-80fe-4308-a784-19a9912f9d1b",
   "metadata": {},
   "outputs": [
    {
     "name": "stdout",
     "output_type": "stream",
     "text": [
      "<TinyDB tables=['fruits', '_default'], tables_count=2, default_table_documents_count=3, all_tables_documents_count=['fruits=3', '_default=3']>\n"
     ]
    }
   ],
   "source": [
    "print(db)"
   ]
  },
  {
   "cell_type": "code",
   "execution_count": 59,
   "id": "a1e1f310-5423-4059-a94b-87d8366b26a5",
   "metadata": {},
   "outputs": [
    {
     "name": "stdout",
     "output_type": "stream",
     "text": [
      "<TinyDB tables=['fruits', '_default'], tables_count=2, default_table_documents_count=3, all_tables_documents_count=['fruits=4', '_default=3']>\n"
     ]
    }
   ],
   "source": [
    "table = db.table('fruits')\n",
    "table.insert({'apples': 50})\n",
    "print (db)"
   ]
  },
  {
   "cell_type": "code",
   "execution_count": 60,
   "id": "a28e08b4-e955-488d-ab99-0f5267e30633",
   "metadata": {},
   "outputs": [],
   "source": [
    "q = tinydb.Query()"
   ]
  },
  {
   "cell_type": "code",
   "execution_count": 61,
   "id": "7518a48c-fcc5-405a-b259-0e5c79849b9f",
   "metadata": {},
   "outputs": [
    {
     "name": "stdout",
     "output_type": "stream",
     "text": [
      "Query()\n"
     ]
    }
   ],
   "source": [
    "print(q)"
   ]
  },
  {
   "cell_type": "code",
   "execution_count": 62,
   "id": "1e0ed4b1-3f17-485c-b5f2-f62429f47814",
   "metadata": {},
   "outputs": [
    {
     "data": {
      "text/plain": [
       "16"
      ]
     },
     "execution_count": 62,
     "metadata": {},
     "output_type": "execute_result"
    }
   ],
   "source": [
    "db.insert({'name': 'John', 'rank': 2})\n",
    "\n",
    "db.insert({'name': 'Peter', 'rank': 1})"
   ]
  },
  {
   "cell_type": "code",
   "execution_count": 63,
   "id": "1fef1586-66e6-4d5e-933e-0613b5ba489b",
   "metadata": {},
   "outputs": [
    {
     "name": "stdout",
     "output_type": "stream",
     "text": [
      "[{'name': 'John', 'rank': 2}, {'name': 'John', 'rank': 2}]\n"
     ]
    }
   ],
   "source": [
    "result = db.search(q.name == 'John')\n",
    "print (result)"
   ]
  },
  {
   "cell_type": "code",
   "execution_count": 64,
   "id": "7959d69e-6da8-4332-82f9-0ebaa48d386b",
   "metadata": {},
   "outputs": [
    {
     "name": "stdout",
     "output_type": "stream",
     "text": [
      "<TinyDB tables=['fruits', '_default'], tables_count=2, default_table_documents_count=5, all_tables_documents_count=['fruits=4', '_default=5']>\n"
     ]
    }
   ],
   "source": [
    "print(db)"
   ]
  },
  {
   "cell_type": "code",
   "execution_count": 65,
   "id": "16643b64-bd42-450b-a38d-bac3b7174246",
   "metadata": {},
   "outputs": [
    {
     "name": "stdout",
     "output_type": "stream",
     "text": [
      "[{'apples': 50}, {'apples': 50}, {'apples': 50}, {'apples': 50}, {'apples': 50}]\n"
     ]
    }
   ],
   "source": [
    "db.insert({'name': 'John', 'rank': 2})\n",
    "\n",
    "db.insert({'name': 'Peter', 'rank': 1})\n",
    "\n",
    "table = db.table('fruits')\n",
    "\n",
    "table.insert({'apples': 50})\n",
    "\n",
    "result = table.search(q.apples < 100)\n",
    "\n",
    "print (result)"
   ]
  },
  {
   "cell_type": "code",
   "execution_count": 66,
   "id": "b4fdbbeb-bc34-48b8-b16d-0b121d351650",
   "metadata": {},
   "outputs": [
    {
     "name": "stdout",
     "output_type": "stream",
     "text": [
      "[{'name': 'Peter', 'rank': 1}, {'name': 'John', 'rank': 2}, {'name': 'Peter', 'rank': 1}, {'name': 'John', 'rank': 2}, {'name': 'Peter', 'rank': 1}, {'name': 'John', 'rank': 2}, {'name': 'Peter', 'rank': 1}]\n"
     ]
    }
   ],
   "source": [
    "print(db.all())"
   ]
  },
  {
   "cell_type": "code",
   "execution_count": 67,
   "id": "efa08be9-972a-4219-86d3-b6928f259b7e",
   "metadata": {},
   "outputs": [
    {
     "data": {
      "text/plain": [
       "[12, 14, 16, 18]"
      ]
     },
     "execution_count": 67,
     "metadata": {},
     "output_type": "execute_result"
    }
   ],
   "source": [
    "db.remove(q.name == 'Peter')"
   ]
  },
  {
   "cell_type": "code",
   "execution_count": 68,
   "id": "63e18fab-eec2-448e-bd36-36f0cb49a384",
   "metadata": {},
   "outputs": [
    {
     "data": {
      "text/plain": [
       "3"
      ]
     },
     "execution_count": 68,
     "metadata": {},
     "output_type": "execute_result"
    }
   ],
   "source": [
    "len(db)"
   ]
  },
  {
   "cell_type": "code",
   "execution_count": 69,
   "id": "c85503f5-cefc-4580-a24e-2392adb292b0",
   "metadata": {},
   "outputs": [
    {
     "data": {
      "text/plain": [
       "20"
      ]
     },
     "execution_count": 69,
     "metadata": {},
     "output_type": "execute_result"
    }
   ],
   "source": [
    "db.insert({'name': 'John', 'rank': 2})\n",
    "db.insert({'name': 'Peter', 'rank': 1})"
   ]
  },
  {
   "cell_type": "code",
   "execution_count": 70,
   "id": "12f87999-80a7-480e-ab20-2fb7981c9e07",
   "metadata": {},
   "outputs": [
    {
     "name": "stdout",
     "output_type": "stream",
     "text": [
      "<TinyDB tables=['fruits', '_default'], tables_count=2, default_table_documents_count=5, all_tables_documents_count=['fruits=5', '_default=5']>\n"
     ]
    }
   ],
   "source": [
    "print(db)"
   ]
  },
  {
   "cell_type": "code",
   "execution_count": 180,
   "id": "5252c90a-054b-48ee-a4c8-ec8f9176d87c",
   "metadata": {},
   "outputs": [
    {
     "name": "stdout",
     "output_type": "stream",
     "text": [
      "{'name': 'default_name', 'contact_number': 'default_contact_number', 'position': 1, 'date_created': '2022-04-01T23:05:28.705325', 'date_updated': '2022-04-01T23:05:28.705331'}\n"
     ]
    }
   ],
   "source": [
    "for item in db:\n",
    "    print(item)"
   ]
  },
  {
   "cell_type": "code",
   "execution_count": 72,
   "id": "30fdeb30-1eb0-4866-a058-3a880a549098",
   "metadata": {},
   "outputs": [
    {
     "name": "stdout",
     "output_type": "stream",
     "text": [
      "<TinyDB tables=['fruits', '_default'], tables_count=2, default_table_documents_count=5, all_tables_documents_count=['fruits=5', '_default=5']>\n"
     ]
    }
   ],
   "source": [
    "print(db)"
   ]
  },
  {
   "cell_type": "code",
   "execution_count": 73,
   "id": "ab5fcd5b-cd78-4d0b-8c76-0c9139824d88",
   "metadata": {},
   "outputs": [
    {
     "data": {
      "text/plain": [
       "[13, 15, 17, 19]"
      ]
     },
     "execution_count": 73,
     "metadata": {},
     "output_type": "execute_result"
    }
   ],
   "source": [
    "db.remove(q.name == 'John')"
   ]
  },
  {
   "cell_type": "code",
   "execution_count": 136,
   "id": "c95b4f67-193c-428d-9fc2-b59f37182754",
   "metadata": {},
   "outputs": [],
   "source": [
    "from tinydb.storages import MemoryStorage"
   ]
  },
  {
   "cell_type": "code",
   "execution_count": 137,
   "id": "2e977c44-1a0b-4cdc-a808-400b1f9109b4",
   "metadata": {},
   "outputs": [],
   "source": [
    "db = tinydb.TinyDB(storage=MemoryStorage)"
   ]
  },
  {
   "cell_type": "code",
   "execution_count": 138,
   "id": "bd49b0f6-a064-44b3-9b8d-d6b48c883238",
   "metadata": {},
   "outputs": [
    {
     "name": "stdout",
     "output_type": "stream",
     "text": [
      "<TinyDB tables=[], tables_count=0, default_table_documents_count=0, all_tables_documents_count=[]>\n"
     ]
    }
   ],
   "source": [
    "print(db)"
   ]
  },
  {
   "cell_type": "code",
   "execution_count": 139,
   "id": "0576c25b-e644-4e7a-8aa9-01e3465a86cb",
   "metadata": {},
   "outputs": [],
   "source": [
    "from tinydb.storages import JSONStorage\n",
    "from tinydb.middlewares import CachingMiddleware\n",
    "db = tinydb.TinyDB('db.json', storage=CachingMiddleware(JSONStorage))"
   ]
  },
  {
   "cell_type": "code",
   "execution_count": 140,
   "id": "ab2f6213-6023-4165-a2ee-aa37a52e86a5",
   "metadata": {},
   "outputs": [
    {
     "name": "stdout",
     "output_type": "stream",
     "text": [
      "<TinyDB tables=['fruits', '_default'], tables_count=2, default_table_documents_count=1, all_tables_documents_count=['fruits=5', '_default=1']>\n"
     ]
    }
   ],
   "source": [
    "print(db)"
   ]
  },
  {
   "cell_type": "code",
   "execution_count": 141,
   "id": "d5b86f67-6713-495e-b83d-becaaedd46fb",
   "metadata": {},
   "outputs": [],
   "source": [
    "db.storage.flush()"
   ]
  },
  {
   "cell_type": "code",
   "execution_count": 142,
   "id": "7a23b16a-5ae0-4acd-8865-2bac2f4c73f9",
   "metadata": {},
   "outputs": [
    {
     "name": "stdout",
     "output_type": "stream",
     "text": [
      "{'name': 'Peter', 'rank': 1}\n"
     ]
    }
   ],
   "source": [
    "with db:\n",
    "    for item in db:\n",
    "        print(item)\n",
    "db.close()"
   ]
  },
  {
   "cell_type": "code",
   "execution_count": null,
   "id": "7ce112a3-80ff-4b33-a18b-a36cb6694509",
   "metadata": {},
   "outputs": [],
   "source": []
  },
  {
   "cell_type": "code",
   "execution_count": 150,
   "id": "719b59ce-8d7c-44d3-a51a-5e523e711ae1",
   "metadata": {},
   "outputs": [],
   "source": [
    "from tinydb.database import Table\n",
    "\n",
    "class Package(Table):\n",
    "    version='1.2.3'"
   ]
  },
  {
   "cell_type": "code",
   "execution_count": 143,
   "id": "0e69e504-c440-4324-a35e-5510edf40dd3",
   "metadata": {},
   "outputs": [],
   "source": [
    "class Package(tinydb.table.Table):\n",
    "    def __init__(self):\n",
    "        super().__init__(self, name='anam')\n",
    "        #self.name='name'\n",
    "        self.version='1.2.3'"
   ]
  },
  {
   "cell_type": "code",
   "execution_count": 148,
   "id": "3a04bdf0-9f3e-419b-8b54-4acbc7978945",
   "metadata": {},
   "outputs": [
    {
     "ename": "TypeError",
     "evalue": "__init__() got an unexpected keyword argument 'table_class'",
     "output_type": "error",
     "traceback": [
      "\u001b[0;31m---------------------------------------------------------------------------\u001b[0m",
      "\u001b[0;31mTypeError\u001b[0m                                 Traceback (most recent call last)",
      "Input \u001b[0;32mIn [148]\u001b[0m, in \u001b[0;36m<cell line: 1>\u001b[0;34m()\u001b[0m\n\u001b[0;32m----> 1\u001b[0m \u001b[43mdb\u001b[49m\u001b[38;5;241;43m.\u001b[39;49m\u001b[43mtable\u001b[49m\u001b[43m(\u001b[49m\u001b[43mname\u001b[49m\u001b[38;5;241;43m=\u001b[39;49m\u001b[38;5;124;43m'\u001b[39;49m\u001b[38;5;124;43mpackage\u001b[39;49m\u001b[38;5;124;43m'\u001b[39;49m\u001b[43m,\u001b[49m\u001b[43m \u001b[49m\u001b[43mtable_class\u001b[49m\u001b[38;5;241;43m=\u001b[39;49m\u001b[43mPackage\u001b[49m\u001b[43m)\u001b[49m\n",
      "File \u001b[0;32m~/miniconda3/envs/py_env_202201/lib/python3.9/site-packages/tinydb/database.py:130\u001b[0m, in \u001b[0;36mTinyDB.table\u001b[0;34m(self, name, **kwargs)\u001b[0m\n\u001b[1;32m    127\u001b[0m \u001b[38;5;28;01mif\u001b[39;00m name \u001b[38;5;129;01min\u001b[39;00m \u001b[38;5;28mself\u001b[39m\u001b[38;5;241m.\u001b[39m_tables:\n\u001b[1;32m    128\u001b[0m     \u001b[38;5;28;01mreturn\u001b[39;00m \u001b[38;5;28mself\u001b[39m\u001b[38;5;241m.\u001b[39m_tables[name]\n\u001b[0;32m--> 130\u001b[0m table \u001b[38;5;241m=\u001b[39m \u001b[38;5;28;43mself\u001b[39;49m\u001b[38;5;241;43m.\u001b[39;49m\u001b[43mtable_class\u001b[49m\u001b[43m(\u001b[49m\u001b[38;5;28;43mself\u001b[39;49m\u001b[38;5;241;43m.\u001b[39;49m\u001b[43mstorage\u001b[49m\u001b[43m,\u001b[49m\u001b[43m \u001b[49m\u001b[43mname\u001b[49m\u001b[43m,\u001b[49m\u001b[43m \u001b[49m\u001b[38;5;241;43m*\u001b[39;49m\u001b[38;5;241;43m*\u001b[39;49m\u001b[43mkwargs\u001b[49m\u001b[43m)\u001b[49m\n\u001b[1;32m    131\u001b[0m \u001b[38;5;28mself\u001b[39m\u001b[38;5;241m.\u001b[39m_tables[name] \u001b[38;5;241m=\u001b[39m table\n\u001b[1;32m    133\u001b[0m \u001b[38;5;28;01mreturn\u001b[39;00m table\n",
      "\u001b[0;31mTypeError\u001b[0m: __init__() got an unexpected keyword argument 'table_class'"
     ]
    }
   ],
   "source": []
  },
  {
   "cell_type": "code",
   "execution_count": 153,
   "id": "985245de-653b-4388-8fe9-293d382f9e4f",
   "metadata": {},
   "outputs": [],
   "source": [
    "p = Package(storage=None, name=None)"
   ]
  },
  {
   "cell_type": "code",
   "execution_count": 179,
   "id": "8a802e1f-0952-478b-b172-a168e1ee9c29",
   "metadata": {},
   "outputs": [],
   "source": [
    "#"
   ]
  },
  {
   "cell_type": "code",
   "execution_count": 129,
   "id": "2b743565-d0ab-4305-b822-6c4304c2cd63",
   "metadata": {},
   "outputs": [
    {
     "name": "stdout",
     "output_type": "stream",
     "text": [
      "anam\n"
     ]
    }
   ],
   "source": [
    "print(p.name)"
   ]
  },
  {
   "cell_type": "code",
   "execution_count": null,
   "id": "492045c9-7c07-4a55-8704-d54e30e209df",
   "metadata": {},
   "outputs": [],
   "source": []
  },
  {
   "cell_type": "code",
   "execution_count": null,
   "id": "f71632ad-39c3-49b3-a02c-ab22b2130534",
   "metadata": {},
   "outputs": [],
   "source": []
  },
  {
   "cell_type": "code",
   "execution_count": 155,
   "id": "3bd001e8-fa50-4a18-99b2-475873afb8bb",
   "metadata": {},
   "outputs": [
    {
     "data": {
      "text/plain": [
       "1"
      ]
     },
     "execution_count": 155,
     "metadata": {},
     "output_type": "execute_result"
    }
   ],
   "source": [
    "from tinydb import TinyDB\n",
    "\n",
    "db = TinyDB('db.json')\n",
    "\n",
    "table1 = db.table('TABLE 1')\n",
    "table1.insert({'Name' : 'Alice' , 'Age' : 19})\n",
    "\n",
    "table2 = db.table('TABLE 2')\n",
    "table2.insert({'Name' : 'john' , 'Age' : 12})\n"
   ]
  },
  {
   "cell_type": "code",
   "execution_count": 156,
   "id": "6d6b77d0-843f-4f02-888f-5f8727d5f8bf",
   "metadata": {},
   "outputs": [
    {
     "name": "stdout",
     "output_type": "stream",
     "text": [
      "<TinyDB tables=['fruits', 'TABLE 1', 'TABLE 2', '_default'], tables_count=4, default_table_documents_count=1, all_tables_documents_count=['fruits=5', 'TABLE 1=1', 'TABLE 2=1', '_default=1']>\n"
     ]
    }
   ],
   "source": [
    "print(db)"
   ]
  },
  {
   "cell_type": "code",
   "execution_count": 167,
   "id": "82a49b44-556b-49f8-90af-a83e6d3537ab",
   "metadata": {},
   "outputs": [],
   "source": [
    "import datetime\n",
    "\n",
    "class Contact(tinydb.table.Table):\n",
    "    def __init__ (self, name='default_name',\n",
    "                  contact_number='default_contact_number',\n",
    "                  position=None, date_created=None, date_updated=None):\n",
    "        self._name = name\n",
    "        self.contact_number = contact_number\n",
    "        self.position = position\n",
    "        self.date_created = date_created if date_created is not None else datetime.datetime.now().isoformat()\n",
    "        self.date_updated = date_updated if date_updated is not None else datetime.datetime.now().isoformat()\n",
    "\n",
    "    def __repr__ (self) -> str:\n",
    "        return f\"({self.name}, {self.contact_number}, {self.position}, {self.date_created}, {self.date_updated})\"\n"
   ]
  },
  {
   "cell_type": "code",
   "execution_count": 168,
   "id": "1beba604-b57c-49a4-9795-d0c76024ece5",
   "metadata": {},
   "outputs": [],
   "source": [
    "p=Contact()"
   ]
  },
  {
   "cell_type": "code",
   "execution_count": 169,
   "id": "3ca2330f-395a-4bf4-ad5e-e4400d8cb383",
   "metadata": {},
   "outputs": [
    {
     "name": "stdout",
     "output_type": "stream",
     "text": [
      "(default_name, default_contact_number, None, 2022-04-01T23:02:25.304416, 2022-04-01T23:02:25.304423)\n"
     ]
    }
   ],
   "source": [
    "print(p)"
   ]
  },
  {
   "cell_type": "code",
   "execution_count": 170,
   "id": "236d66ac-74cf-4570-934b-e6789c4aab91",
   "metadata": {},
   "outputs": [],
   "source": [
    "from tinydb import TinyDB, Query\n",
    "\n",
    "db = TinyDB('contact-book.json')\n",
    "db.default_table_name = 'contact-book'\n",
    "ContactQuery = Query()\n"
   ]
  },
  {
   "cell_type": "code",
   "execution_count": 172,
   "id": "9aec0610-40ee-4a05-99f1-fa6ce47a3c3b",
   "metadata": {},
   "outputs": [],
   "source": [
    "from typing import List"
   ]
  },
  {
   "cell_type": "code",
   "execution_count": 173,
   "id": "d5720693-2776-4880-85d9-bf337e242fd6",
   "metadata": {},
   "outputs": [],
   "source": [
    "def create(contact: Contact) -> None:\n",
    "    contact.position = len(db)+1\n",
    "    new_contact = {\n",
    "        'name': contact.name,\n",
    "        'contact_number': contact.contact_number,\n",
    "        'position': contact.position,\n",
    "        'date_created': contact.date_created,\n",
    "        'date_updated': contact.date_updated\n",
    "    }\n",
    "    db.insert(new_contact)\n",
    "\n",
    "def read() -> List[Contact]:\n",
    "    results = db.all()\n",
    "    contacts = []\n",
    "    for result in results:\n",
    "        new_contact = Contact(result['name'], result['contact_number'], result['position'],\n",
    "                              result['date_created'], result['date_updated'])\n",
    "        contacts.append(new_contact)\n",
    "    return contacts\n",
    "\n",
    "def update(position: int, name: str, contact_number: str) -> None:\n",
    "    if name is not None and contact_number is not None:\n",
    "        db.update({'name': name, 'contact_number': contact_number},\n",
    "                  ContactQuery.position == position)\n",
    "    elif name is not None:\n",
    "        db.update({'name': name}, ContactQuery.position == position)\n",
    "\n",
    "    elif contact_number is not None:\n",
    "        db.update({'contact_number': contact_number},\n",
    "                  ContactQuery.position == position)\n",
    "\n",
    "def delete(position) -> None:\n",
    "    count = len(db)\n",
    "    db.remove(ContactQuery.position == position)\n",
    "    for pos in range(position+1, count):\n",
    "        change_position(pos, pos-1)\n",
    "\n",
    "def change_position(old_position: int, new_position: int) -> None:\n",
    "    db.update({'position': new_position},\n",
    "              ContactQuery.position == old_position)\n"
   ]
  },
  {
   "cell_type": "code",
   "execution_count": 174,
   "id": "fe2e7eef-1992-4141-b3e0-21368e518114",
   "metadata": {},
   "outputs": [
    {
     "name": "stdout",
     "output_type": "stream",
     "text": [
      "(default_name, default_contact_number, None, 2022-04-01T23:02:25.304416, 2022-04-01T23:02:25.304423)\n"
     ]
    }
   ],
   "source": [
    "print(p)"
   ]
  },
  {
   "cell_type": "code",
   "execution_count": 175,
   "id": "bf4bde7d-ac55-4c08-a4f5-499ee50e94c0",
   "metadata": {},
   "outputs": [],
   "source": [
    "c=Contact()"
   ]
  },
  {
   "cell_type": "code",
   "execution_count": 176,
   "id": "31610d2a-6f95-4f5f-8c8c-b4d58fc2c572",
   "metadata": {},
   "outputs": [
    {
     "name": "stdout",
     "output_type": "stream",
     "text": [
      "(default_name, default_contact_number, None, 2022-04-01T23:05:28.705325, 2022-04-01T23:05:28.705331)\n"
     ]
    }
   ],
   "source": [
    "print(c)"
   ]
  },
  {
   "cell_type": "code",
   "execution_count": 177,
   "id": "63f0fb73-d379-445a-bffe-8ab8e87bf52e",
   "metadata": {},
   "outputs": [],
   "source": [
    "create(c)"
   ]
  },
  {
   "cell_type": "code",
   "execution_count": 178,
   "id": "78faa411-670f-47a1-afe0-c7aef7b073e1",
   "metadata": {},
   "outputs": [
    {
     "name": "stdout",
     "output_type": "stream",
     "text": [
      "<TinyDB tables=['contact-book'], tables_count=1, default_table_documents_count=1, all_tables_documents_count=['contact-book=1']>\n"
     ]
    }
   ],
   "source": [
    "print(db)"
   ]
  },
  {
   "cell_type": "code",
   "execution_count": 181,
   "id": "3428e155-3735-4602-b60e-7ae315b0f9c5",
   "metadata": {},
   "outputs": [
    {
     "name": "stdout",
     "output_type": "stream",
     "text": [
      "{'name': 'default_name', 'contact_number': 'default_contact_number', 'position': 1, 'date_created': '2022-04-01T23:05:28.705325', 'date_updated': '2022-04-01T23:05:28.705331'}\n"
     ]
    }
   ],
   "source": [
    "for item in db:\n",
    "    print(item)"
   ]
  },
  {
   "cell_type": "code",
   "execution_count": null,
   "id": "2725f364-8e91-40b5-81ed-7abf8e4e926d",
   "metadata": {},
   "outputs": [],
   "source": []
  }
 ],
 "metadata": {
  "kernelspec": {
   "display_name": "Python 3 (ipykernel)",
   "language": "python",
   "name": "python3"
  },
  "language_info": {
   "codemirror_mode": {
    "name": "ipython",
    "version": 3
   },
   "file_extension": ".py",
   "mimetype": "text/x-python",
   "name": "python",
   "nbconvert_exporter": "python",
   "pygments_lexer": "ipython3",
   "version": "3.9.7"
  }
 },
 "nbformat": 4,
 "nbformat_minor": 5
}
