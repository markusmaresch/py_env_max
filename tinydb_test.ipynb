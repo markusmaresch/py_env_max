{
 "cells": [
  {
   "cell_type": "code",
   "execution_count": 1,
   "id": "5b9ef856-30b4-4443-bec3-9ee420b0c747",
   "metadata": {},
   "outputs": [],
   "source": [
    "import tinydb"
   ]
  },
  {
   "cell_type": "code",
   "execution_count": 2,
   "id": "8ffb2afc-c72e-41f3-ae14-11010eb9cb7b",
   "metadata": {},
   "outputs": [
    {
     "name": "stdout",
     "output_type": "stream",
     "text": [
      "4.7.0\n"
     ]
    }
   ],
   "source": [
    "print(tinydb.__version__)"
   ]
  },
  {
   "cell_type": "code",
   "execution_count": 50,
   "id": "2cf937b3-600f-48f0-9337-5567a72449c5",
   "metadata": {},
   "outputs": [
    {
     "name": "stdout",
     "output_type": "stream",
     "text": [
      "<TinyDB tables=['TABLE 2', 'TABLE 1', '_default', 'fruits'], tables_count=4, default_table_documents_count=1, all_tables_documents_count=['TABLE 2=2', 'TABLE 1=2', '_default=1', 'fruits=7']>\n"
     ]
    }
   ],
   "source": [
    "db = tinydb.TinyDB('db.json', sort_keys=True, indent=4, separators=(',', ': '))\n",
    "print (db)"
   ]
  },
  {
   "cell_type": "code",
   "execution_count": 4,
   "id": "4a3f3af4-47be-4ab4-aa89-ca7d3d228880",
   "metadata": {},
   "outputs": [
    {
     "name": "stdout",
     "output_type": "stream",
     "text": [
      "<TinyDB tables=['TABLE 2', 'TABLE 1', '_default', 'fruits'], tables_count=4, default_table_documents_count=3, all_tables_documents_count=['TABLE 2=1', 'TABLE 1=1', '_default=3', 'fruits=5']>\n"
     ]
    }
   ],
   "source": [
    "db.insert({'name': 'John', 'rank': 2})\n",
    "\n",
    "db.insert({'name': 'Peter', 'rank': 1})\n",
    "\n",
    "print (db)"
   ]
  },
  {
   "cell_type": "code",
   "execution_count": null,
   "id": "a16edefa-ffa4-48ca-a105-0b59449aa581",
   "metadata": {},
   "outputs": [],
   "source": []
  },
  {
   "cell_type": "code",
   "execution_count": 5,
   "id": "8669f02c-80fe-4308-a784-19a9912f9d1b",
   "metadata": {},
   "outputs": [
    {
     "name": "stdout",
     "output_type": "stream",
     "text": [
      "<TinyDB tables=['TABLE 2', 'TABLE 1', '_default', 'fruits'], tables_count=4, default_table_documents_count=3, all_tables_documents_count=['TABLE 2=1', 'TABLE 1=1', '_default=3', 'fruits=5']>\n"
     ]
    }
   ],
   "source": [
    "print(db)"
   ]
  },
  {
   "cell_type": "code",
   "execution_count": 6,
   "id": "a1e1f310-5423-4059-a94b-87d8366b26a5",
   "metadata": {},
   "outputs": [
    {
     "name": "stdout",
     "output_type": "stream",
     "text": [
      "<TinyDB tables=['TABLE 2', 'TABLE 1', '_default', 'fruits'], tables_count=4, default_table_documents_count=3, all_tables_documents_count=['TABLE 2=1', 'TABLE 1=1', '_default=3', 'fruits=6']>\n"
     ]
    }
   ],
   "source": [
    "table = db.table('fruits')\n",
    "table.insert({'apples': 50})\n",
    "print (db)"
   ]
  },
  {
   "cell_type": "code",
   "execution_count": 7,
   "id": "a28e08b4-e955-488d-ab99-0f5267e30633",
   "metadata": {},
   "outputs": [],
   "source": [
    "q = tinydb.Query()"
   ]
  },
  {
   "cell_type": "code",
   "execution_count": 8,
   "id": "7518a48c-fcc5-405a-b259-0e5c79849b9f",
   "metadata": {},
   "outputs": [
    {
     "name": "stdout",
     "output_type": "stream",
     "text": [
      "Query()\n"
     ]
    }
   ],
   "source": [
    "print(q)"
   ]
  },
  {
   "cell_type": "code",
   "execution_count": 9,
   "id": "1e0ed4b1-3f17-485c-b5f2-f62429f47814",
   "metadata": {},
   "outputs": [
    {
     "data": {
      "text/plain": [
       "24"
      ]
     },
     "execution_count": 9,
     "metadata": {},
     "output_type": "execute_result"
    }
   ],
   "source": [
    "db.insert({'name': 'John', 'rank': 2})\n",
    "\n",
    "db.insert({'name': 'Peter', 'rank': 1})"
   ]
  },
  {
   "cell_type": "code",
   "execution_count": 10,
   "id": "1fef1586-66e6-4d5e-933e-0613b5ba489b",
   "metadata": {},
   "outputs": [
    {
     "name": "stdout",
     "output_type": "stream",
     "text": [
      "[{'name': 'John', 'rank': 2}, {'name': 'John', 'rank': 2}]\n"
     ]
    }
   ],
   "source": [
    "result = db.search(q.name == 'John')\n",
    "print (result)"
   ]
  },
  {
   "cell_type": "code",
   "execution_count": 11,
   "id": "7959d69e-6da8-4332-82f9-0ebaa48d386b",
   "metadata": {},
   "outputs": [
    {
     "name": "stdout",
     "output_type": "stream",
     "text": [
      "<TinyDB tables=['TABLE 2', 'TABLE 1', '_default', 'fruits'], tables_count=4, default_table_documents_count=5, all_tables_documents_count=['TABLE 2=1', 'TABLE 1=1', '_default=5', 'fruits=6']>\n"
     ]
    }
   ],
   "source": [
    "print(db)"
   ]
  },
  {
   "cell_type": "code",
   "execution_count": 51,
   "id": "16643b64-bd42-450b-a38d-bac3b7174246",
   "metadata": {},
   "outputs": [
    {
     "name": "stdout",
     "output_type": "stream",
     "text": [
      "[{'apples': 50}, {'apples': 50}, {'apples': 50}, {'apples': 50}, {'apples': 50}, {'apples': 50}, {'apples': 50}, {'apples': 50}]\n"
     ]
    }
   ],
   "source": [
    "db.insert({'name': 'John', 'rank': 2})\n",
    "db.insert({'name': 'Peter', 'rank': 1})\n",
    "\n",
    "table = db.table('fruits')\n",
    "table.insert({'apples': 50})\n",
    "result = table.search(q.apples < 100)\n",
    "\n",
    "print (result)"
   ]
  },
  {
   "cell_type": "code",
   "execution_count": 52,
   "id": "b4fdbbeb-bc34-48b8-b16d-0b121d351650",
   "metadata": {},
   "outputs": [
    {
     "name": "stdout",
     "output_type": "stream",
     "text": [
      "[{'name': 'Peter', 'rank': 1}, {'name': 'John', 'rank': 2}, {'name': 'Peter', 'rank': 1}]\n"
     ]
    }
   ],
   "source": [
    "print(db.all())"
   ]
  },
  {
   "cell_type": "code",
   "execution_count": 53,
   "id": "efa08be9-972a-4219-86d3-b6928f259b7e",
   "metadata": {},
   "outputs": [
    {
     "data": {
      "text/plain": [
       "[28, 30]"
      ]
     },
     "execution_count": 53,
     "metadata": {},
     "output_type": "execute_result"
    }
   ],
   "source": [
    "db.remove(q.name == 'Peter')"
   ]
  },
  {
   "cell_type": "code",
   "execution_count": 54,
   "id": "63e18fab-eec2-448e-bd36-36f0cb49a384",
   "metadata": {},
   "outputs": [
    {
     "data": {
      "text/plain": [
       "1"
      ]
     },
     "execution_count": 54,
     "metadata": {},
     "output_type": "execute_result"
    }
   ],
   "source": [
    "len(db)"
   ]
  },
  {
   "cell_type": "code",
   "execution_count": 55,
   "id": "c85503f5-cefc-4580-a24e-2392adb292b0",
   "metadata": {},
   "outputs": [
    {
     "data": {
      "text/plain": [
       "32"
      ]
     },
     "execution_count": 55,
     "metadata": {},
     "output_type": "execute_result"
    }
   ],
   "source": [
    "db.insert({'name': 'John', 'rank': 2})\n",
    "db.insert({'name': 'Peter', 'rank': 1})"
   ]
  },
  {
   "cell_type": "code",
   "execution_count": 56,
   "id": "12f87999-80a7-480e-ab20-2fb7981c9e07",
   "metadata": {},
   "outputs": [
    {
     "name": "stdout",
     "output_type": "stream",
     "text": [
      "<TinyDB tables=['TABLE 2', 'TABLE 1', '_default', 'fruits'], tables_count=4, default_table_documents_count=3, all_tables_documents_count=['TABLE 2=2', 'TABLE 1=2', '_default=3', 'fruits=8']>\n"
     ]
    }
   ],
   "source": [
    "print(db)"
   ]
  },
  {
   "cell_type": "code",
   "execution_count": 57,
   "id": "5252c90a-054b-48ee-a4c8-ec8f9176d87c",
   "metadata": {},
   "outputs": [
    {
     "name": "stdout",
     "output_type": "stream",
     "text": [
      "{'name': 'John', 'rank': 2}\n",
      "{'name': 'John', 'rank': 2}\n",
      "{'name': 'Peter', 'rank': 1}\n"
     ]
    }
   ],
   "source": [
    "for item in db:\n",
    "    print(item)"
   ]
  },
  {
   "cell_type": "code",
   "execution_count": 58,
   "id": "30fdeb30-1eb0-4866-a058-3a880a549098",
   "metadata": {},
   "outputs": [
    {
     "name": "stdout",
     "output_type": "stream",
     "text": [
      "<TinyDB tables=['TABLE 2', 'TABLE 1', '_default', 'fruits'], tables_count=4, default_table_documents_count=3, all_tables_documents_count=['TABLE 2=2', 'TABLE 1=2', '_default=3', 'fruits=8']>\n"
     ]
    }
   ],
   "source": [
    "print(db)"
   ]
  },
  {
   "cell_type": "code",
   "execution_count": 59,
   "id": "ab5fcd5b-cd78-4d0b-8c76-0c9139824d88",
   "metadata": {},
   "outputs": [
    {
     "data": {
      "text/plain": [
       "[29, 31]"
      ]
     },
     "execution_count": 59,
     "metadata": {},
     "output_type": "execute_result"
    }
   ],
   "source": [
    "db.remove(q.name == 'John')"
   ]
  },
  {
   "cell_type": "code",
   "execution_count": 60,
   "id": "c95b4f67-193c-428d-9fc2-b59f37182754",
   "metadata": {},
   "outputs": [],
   "source": [
    "from tinydb.storages import MemoryStorage"
   ]
  },
  {
   "cell_type": "code",
   "execution_count": 64,
   "id": "2e977c44-1a0b-4cdc-a808-400b1f9109b4",
   "metadata": {},
   "outputs": [],
   "source": [
    "db = tinydb.TinyDB(storage=MemoryStorage)"
   ]
  },
  {
   "cell_type": "code",
   "execution_count": 65,
   "id": "bd49b0f6-a064-44b3-9b8d-d6b48c883238",
   "metadata": {},
   "outputs": [
    {
     "name": "stdout",
     "output_type": "stream",
     "text": [
      "<TinyDB tables=[], tables_count=0, default_table_documents_count=0, all_tables_documents_count=[]>\n"
     ]
    }
   ],
   "source": [
    "print(db)"
   ]
  },
  {
   "cell_type": "code",
   "execution_count": 66,
   "id": "0576c25b-e644-4e7a-8aa9-01e3465a86cb",
   "metadata": {},
   "outputs": [],
   "source": [
    "from tinydb.storages import JSONStorage\n",
    "from tinydb.middlewares import CachingMiddleware\n",
    "db = tinydb.TinyDB('db.json', storage=CachingMiddleware(JSONStorage),\n",
    "                   sort_keys=True, indent=4, separators=(',', ': '))"
   ]
  },
  {
   "cell_type": "code",
   "execution_count": 67,
   "id": "ab2f6213-6023-4165-a2ee-aa37a52e86a5",
   "metadata": {},
   "outputs": [
    {
     "name": "stdout",
     "output_type": "stream",
     "text": [
      "<TinyDB tables=['TABLE 2', 'TABLE 1', '_default', 'fruits'], tables_count=4, default_table_documents_count=1, all_tables_documents_count=['TABLE 2=2', 'TABLE 1=2', '_default=1', 'fruits=8']>\n"
     ]
    }
   ],
   "source": [
    "print(db)"
   ]
  },
  {
   "cell_type": "code",
   "execution_count": 68,
   "id": "d5b86f67-6713-495e-b83d-becaaedd46fb",
   "metadata": {},
   "outputs": [],
   "source": [
    "db.storage.flush()"
   ]
  },
  {
   "cell_type": "code",
   "execution_count": 69,
   "id": "7a23b16a-5ae0-4acd-8865-2bac2f4c73f9",
   "metadata": {},
   "outputs": [
    {
     "name": "stdout",
     "output_type": "stream",
     "text": [
      "{'name': 'Peter', 'rank': 1}\n"
     ]
    }
   ],
   "source": [
    "with db:\n",
    "    for item in db:\n",
    "        print(item)\n",
    "db.close()"
   ]
  },
  {
   "cell_type": "code",
   "execution_count": null,
   "id": "7ce112a3-80ff-4b33-a18b-a36cb6694509",
   "metadata": {},
   "outputs": [],
   "source": []
  },
  {
   "cell_type": "code",
   "execution_count": 70,
   "id": "719b59ce-8d7c-44d3-a51a-5e523e711ae1",
   "metadata": {},
   "outputs": [],
   "source": []
  },
  {
   "cell_type": "code",
   "execution_count": 71,
   "id": "0e69e504-c440-4324-a35e-5510edf40dd3",
   "metadata": {},
   "outputs": [],
   "source": []
  },
  {
   "cell_type": "code",
   "execution_count": null,
   "id": "3a04bdf0-9f3e-419b-8b54-4acbc7978945",
   "metadata": {},
   "outputs": [],
   "source": []
  },
  {
   "cell_type": "code",
   "execution_count": 74,
   "id": "985245de-653b-4388-8fe9-293d382f9e4f",
   "metadata": {},
   "outputs": [],
   "source": [
    "p = Package()"
   ]
  },
  {
   "cell_type": "code",
   "execution_count": 75,
   "id": "8a802e1f-0952-478b-b172-a168e1ee9c29",
   "metadata": {},
   "outputs": [],
   "source": [
    "#"
   ]
  },
  {
   "cell_type": "code",
   "execution_count": 76,
   "id": "2b743565-d0ab-4305-b822-6c4304c2cd63",
   "metadata": {},
   "outputs": [
    {
     "name": "stdout",
     "output_type": "stream",
     "text": [
      "anam\n"
     ]
    }
   ],
   "source": [
    "print(p.name)"
   ]
  },
  {
   "cell_type": "code",
   "execution_count": null,
   "id": "492045c9-7c07-4a55-8704-d54e30e209df",
   "metadata": {},
   "outputs": [],
   "source": []
  },
  {
   "cell_type": "code",
   "execution_count": 34,
   "id": "6d6b77d0-843f-4f02-888f-5f8727d5f8bf",
   "metadata": {},
   "outputs": [
    {
     "name": "stdout",
     "output_type": "stream",
     "text": [
      "<TinyDB tables=['TABLE 2', 'TABLE 1', '_default', 'fruits'], tables_count=4, default_table_documents_count=1, all_tables_documents_count=['TABLE 2=2', 'TABLE 1=2', '_default=1', 'fruits=7']>\n"
     ]
    }
   ],
   "source": [
    "print(db)"
   ]
  },
  {
   "cell_type": "code",
   "execution_count": 35,
   "id": "82a49b44-556b-49f8-90af-a83e6d3537ab",
   "metadata": {},
   "outputs": [],
   "source": [
    "import datetime\n",
    "\n",
    "class Contact(tinydb.table.Table):\n",
    "    def __init__ (self, name='default_name',\n",
    "                  contact_number='default_contact_number',\n",
    "                  position=None, date_created=None, date_updated=None):\n",
    "        self._name = name\n",
    "        self.contact_number = contact_number\n",
    "        self.position = position\n",
    "        self.date_created = date_created if date_created is not None else datetime.datetime.now().isoformat()\n",
    "        self.date_updated = date_updated if date_updated is not None else datetime.datetime.now().isoformat()\n",
    "\n",
    "    def __repr__ (self) -> str:\n",
    "        return f\"({self.name}, {self.contact_number}, {self.position}, {self.date_created}, {self.date_updated})\"\n"
   ]
  },
  {
   "cell_type": "code",
   "execution_count": 36,
   "id": "1beba604-b57c-49a4-9795-d0c76024ece5",
   "metadata": {},
   "outputs": [],
   "source": [
    "p=Contact()"
   ]
  },
  {
   "cell_type": "code",
   "execution_count": 37,
   "id": "3ca2330f-395a-4bf4-ad5e-e4400d8cb383",
   "metadata": {},
   "outputs": [
    {
     "name": "stdout",
     "output_type": "stream",
     "text": [
      "(default_name, default_contact_number, None, 2022-04-03T23:21:27.258330, 2022-04-03T23:21:27.258337)\n"
     ]
    }
   ],
   "source": [
    "print(p)"
   ]
  },
  {
   "cell_type": "code",
   "execution_count": 38,
   "id": "236d66ac-74cf-4570-934b-e6789c4aab91",
   "metadata": {},
   "outputs": [],
   "source": [
    "from tinydb import TinyDB, Query\n",
    "\n",
    "db = TinyDB('contact-book.json', sort_keys=True, indent=4, separators=(',', ': '))\n",
    "db.default_table_name = 'contact-book'\n",
    "ContactQuery = Query()\n"
   ]
  },
  {
   "cell_type": "code",
   "execution_count": 39,
   "id": "9aec0610-40ee-4a05-99f1-fa6ce47a3c3b",
   "metadata": {},
   "outputs": [],
   "source": [
    "from typing import List"
   ]
  },
  {
   "cell_type": "code",
   "execution_count": 40,
   "id": "d5720693-2776-4880-85d9-bf337e242fd6",
   "metadata": {},
   "outputs": [],
   "source": [
    "def create(contact: Contact) -> None:\n",
    "    contact.position = len(db)+1\n",
    "    new_contact = {\n",
    "        'name': contact.name,\n",
    "        'contact_number': contact.contact_number,\n",
    "        'position': contact.position,\n",
    "        'date_created': contact.date_created,\n",
    "        'date_updated': contact.date_updated\n",
    "    }\n",
    "    db.insert(new_contact)\n",
    "\n",
    "def read() -> List[Contact]:\n",
    "    results = db.all()\n",
    "    contacts = []\n",
    "    for result in results:\n",
    "        new_contact = Contact(result['name'], result['contact_number'], result['position'],\n",
    "                              result['date_created'], result['date_updated'])\n",
    "        contacts.append(new_contact)\n",
    "    return contacts\n",
    "\n",
    "def update(position: int, name: str, contact_number: str) -> None:\n",
    "    if name is not None and contact_number is not None:\n",
    "        db.update({'name': name, 'contact_number': contact_number},\n",
    "                  ContactQuery.position == position)\n",
    "    elif name is not None:\n",
    "        db.update({'name': name}, ContactQuery.position == position)\n",
    "\n",
    "    elif contact_number is not None:\n",
    "        db.update({'contact_number': contact_number},\n",
    "                  ContactQuery.position == position)\n",
    "\n",
    "def delete(position) -> None:\n",
    "    count = len(db)\n",
    "    db.remove(ContactQuery.position == position)\n",
    "    for pos in range(position+1, count):\n",
    "        change_position(pos, pos-1)\n",
    "\n",
    "def change_position(old_position: int, new_position: int) -> None:\n",
    "    db.update({'position': new_position},\n",
    "              ContactQuery.position == old_position)\n"
   ]
  },
  {
   "cell_type": "code",
   "execution_count": 41,
   "id": "fe2e7eef-1992-4141-b3e0-21368e518114",
   "metadata": {},
   "outputs": [
    {
     "name": "stdout",
     "output_type": "stream",
     "text": [
      "(default_name, default_contact_number, None, 2022-04-03T23:21:27.258330, 2022-04-03T23:21:27.258337)\n"
     ]
    }
   ],
   "source": [
    "print(p)"
   ]
  },
  {
   "cell_type": "code",
   "execution_count": 42,
   "id": "bf4bde7d-ac55-4c08-a4f5-499ee50e94c0",
   "metadata": {},
   "outputs": [],
   "source": [
    "c=Contact()"
   ]
  },
  {
   "cell_type": "code",
   "execution_count": 43,
   "id": "31610d2a-6f95-4f5f-8c8c-b4d58fc2c572",
   "metadata": {},
   "outputs": [
    {
     "name": "stdout",
     "output_type": "stream",
     "text": [
      "(default_name, default_contact_number, None, 2022-04-03T23:21:29.757117, 2022-04-03T23:21:29.757123)\n"
     ]
    }
   ],
   "source": [
    "print(c)"
   ]
  },
  {
   "cell_type": "code",
   "execution_count": 44,
   "id": "63f0fb73-d379-445a-bffe-8ab8e87bf52e",
   "metadata": {},
   "outputs": [],
   "source": [
    "create(c)"
   ]
  },
  {
   "cell_type": "code",
   "execution_count": null,
   "id": "2127c031-2694-488f-b19f-e1a9ef75e79e",
   "metadata": {},
   "outputs": [],
   "source": []
  },
  {
   "cell_type": "code",
   "execution_count": 2,
   "id": "ab43f03a-a96b-4736-8508-6b2050b7d3d6",
   "metadata": {},
   "outputs": [],
   "source": [
    "import tinydb"
   ]
  },
  {
   "cell_type": "code",
   "execution_count": null,
   "id": "85492e34-529c-484c-b8cc-019237d8a6a1",
   "metadata": {},
   "outputs": [],
   "source": []
  },
  {
   "cell_type": "code",
   "execution_count": 20,
   "id": "d9ac7c1e-1270-43a4-9ed3-268eb0d2eb30",
   "metadata": {},
   "outputs": [],
   "source": [
    "class Package(tinydb.database.Table):\n",
    "    version='1.2.3'"
   ]
  },
  {
   "cell_type": "code",
   "execution_count": 22,
   "id": "70547b4e-49a9-4eb9-bd51-08bbdd11326f",
   "metadata": {},
   "outputs": [],
   "source": [
    "class Package(tinydb.table.Table):\n",
    "    def __init__(self):\n",
    "        super().__init__(self, name='anam')\n",
    "        #self.name='name'\n",
    "        self.version='1.2.3'"
   ]
  },
  {
   "cell_type": "code",
   "execution_count": 23,
   "id": "96e22452-80ce-49bb-93f7-2b8193853d0f",
   "metadata": {},
   "outputs": [],
   "source": [
    "p=Package()"
   ]
  },
  {
   "cell_type": "code",
   "execution_count": 39,
   "id": "42c11cf9-0858-4210-b161-eb5b28433ee8",
   "metadata": {},
   "outputs": [
    {
     "data": {
      "text/plain": [
       "9"
      ]
     },
     "execution_count": 39,
     "metadata": {},
     "output_type": "execute_result"
    }
   ],
   "source": [
    "db = tinydb.TinyDB('db.json',\n",
    "                   sort_keys=True, indent=4, separators=(',', ': '))\n",
    "\n",
    "table1 = db.table('version')\n",
    "table1.insert({'Name' : '??' , 'Version' : 0.123})\n",
    "\n",
    "\n",
    "table2 = db.table('requirements')\n",
    "table2.insert({'Name' : 'Alice' , 'Age' : 19})\n",
    "table2.insert({'Name' : 'john' , 'Age' : 12})\n",
    "table2.insert({'Name' : 'john2' , 'Age' : 14})"
   ]
  },
  {
   "cell_type": "code",
   "execution_count": 40,
   "id": "8e740831-7afa-4c76-a70f-bbd69e1eb694",
   "metadata": {},
   "outputs": [],
   "source": [
    "#d=tinydb.table.Document(value='val..', doc_id=99)"
   ]
  },
  {
   "cell_type": "code",
   "execution_count": 41,
   "id": "73c854c9-4d19-4e7a-9706-c2bbc5619f3c",
   "metadata": {},
   "outputs": [],
   "source": [
    "#table2.insert(p)"
   ]
  },
  {
   "cell_type": "code",
   "execution_count": 42,
   "id": "61dae71c-f70d-4138-bd43-90e80e36dc96",
   "metadata": {},
   "outputs": [
    {
     "name": "stdout",
     "output_type": "stream",
     "text": [
      "<TinyDB tables=['requirements', 'version'], tables_count=2, default_table_documents_count=0, all_tables_documents_count=['requirements=9', 'version=1']>\n"
     ]
    }
   ],
   "source": [
    "print(db)"
   ]
  },
  {
   "cell_type": "code",
   "execution_count": 43,
   "id": "36181790-aebd-4acd-a0e0-4b93d5af4892",
   "metadata": {},
   "outputs": [
    {
     "name": "stdout",
     "output_type": "stream",
     "text": [
      "Table: requirements\n",
      "Table: version\n"
     ]
    }
   ],
   "source": [
    "for t in db.tables():\n",
    "    print('Table: {}'.format(t))\n",
    "    #print(type(t))\n",
    "    for item in db:\n",
    "        print(item)"
   ]
  },
  {
   "cell_type": "code",
   "execution_count": 44,
   "id": "dc8b1d1a-afc6-4d08-a937-ec8137c28df9",
   "metadata": {},
   "outputs": [
    {
     "name": "stdout",
     "output_type": "stream",
     "text": [
      "<TinyDB tables=['requirements', 'version'], tables_count=2, default_table_documents_count=0, all_tables_documents_count=['requirements=9', 'version=1']>\n"
     ]
    }
   ],
   "source": [
    "print(db)"
   ]
  },
  {
   "cell_type": "code",
   "execution_count": null,
   "id": "b6982550-dc76-48a4-b89d-917370c53dfb",
   "metadata": {},
   "outputs": [],
   "source": []
  },
  {
   "cell_type": "code",
   "execution_count": null,
   "id": "0bb2b3fa-18f0-4027-ac97-e17ccf890e5a",
   "metadata": {},
   "outputs": [],
   "source": []
  }
 ],
 "metadata": {
  "kernelspec": {
   "display_name": "Python 3 (ipykernel)",
   "language": "python",
   "name": "python3"
  },
  "language_info": {
   "codemirror_mode": {
    "name": "ipython",
    "version": 3
   },
   "file_extension": ".py",
   "mimetype": "text/x-python",
   "name": "python",
   "nbconvert_exporter": "python",
   "pygments_lexer": "ipython3",
   "version": "3.9.7"
  }
 },
 "nbformat": 4,
 "nbformat_minor": 5
}
