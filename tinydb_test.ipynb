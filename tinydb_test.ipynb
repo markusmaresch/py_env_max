{
 "cells": [
  {
   "cell_type": "code",
   "execution_count": 1,
   "id": "5b9ef856-30b4-4443-bec3-9ee420b0c747",
   "metadata": {},
   "outputs": [],
   "source": [
    "import tinydb"
   ]
  },
  {
   "cell_type": "code",
   "execution_count": 2,
   "id": "7073da23-85db-47bd-b8e3-2cea8abdf4bb",
   "metadata": {},
   "outputs": [],
   "source": [
    "from tinydb.storages import JSONStorage\n",
    "from tinydb.middlewares import CachingMiddleware"
   ]
  },
  {
   "cell_type": "code",
   "execution_count": 3,
   "id": "96449903-bcbf-4d8f-a1eb-f09a8475495a",
   "metadata": {},
   "outputs": [],
   "source": [
    "db = tinydb.TinyDB('db.json', storage=CachingMiddleware(JSONStorage),\n",
    "                   sort_keys=True, indent=1, separators=(',', ': '))"
   ]
  },
  {
   "cell_type": "code",
   "execution_count": 14,
   "id": "e87cd171-74ce-4a86-b080-aea02bf711e1",
   "metadata": {},
   "outputs": [
    {
     "name": "stdout",
     "output_type": "stream",
     "text": [
      "<TinyDB tables=['packages'], tables_count=1, default_table_documents_count=0, all_tables_documents_count=['packages=1']>\n"
     ]
    }
   ],
   "source": [
    "print(db)"
   ]
  },
  {
   "cell_type": "code",
   "execution_count": 16,
   "id": "794cb607-184a-463d-9703-f84e94dce4c9",
   "metadata": {},
   "outputs": [],
   "source": [
    "db.storage.flush()"
   ]
  },
  {
   "cell_type": "code",
   "execution_count": 8,
   "id": "6eb1e9ed-ebad-4394-8f87-eb570d1c6c76",
   "metadata": {},
   "outputs": [],
   "source": [
    "table_name='packages'"
   ]
  },
  {
   "cell_type": "code",
   "execution_count": 9,
   "id": "a53601c6-f8cd-4133-8ed1-fb546814d55d",
   "metadata": {},
   "outputs": [],
   "source": [
    "table=db.table(table_name)"
   ]
  },
  {
   "cell_type": "code",
   "execution_count": 13,
   "id": "07820881-d88d-4d8e-a998-bc2f806cdf5f",
   "metadata": {},
   "outputs": [
    {
     "data": {
      "text/plain": [
       "1"
      ]
     },
     "execution_count": 13,
     "metadata": {},
     "output_type": "execute_result"
    }
   ],
   "source": [
    "table.insert({'numpy': 'value'})"
   ]
  },
  {
   "cell_type": "code",
   "execution_count": 15,
   "id": "3270cc6d-fafa-45f3-b24e-da35a38b1635",
   "metadata": {},
   "outputs": [
    {
     "data": {
      "text/plain": [
       "{'packages'}"
      ]
     },
     "execution_count": 15,
     "metadata": {},
     "output_type": "execute_result"
    }
   ],
   "source": [
    "db.tables()"
   ]
  },
  {
   "cell_type": "code",
   "execution_count": null,
   "id": "a275b6aa-c137-4c99-ac5b-56c33975c4de",
   "metadata": {},
   "outputs": [],
   "source": []
  },
  {
   "cell_type": "code",
   "execution_count": null,
   "id": "c504c2fc-a920-4531-bc33-34a52bb30392",
   "metadata": {},
   "outputs": [],
   "source": [
    "8"
   ]
  },
  {
   "cell_type": "code",
   "execution_count": 8,
   "id": "d72f322f-20fc-47bb-8060-ec9582177cd0",
   "metadata": {},
   "outputs": [
    {
     "data": {
      "text/plain": [
       "2"
      ]
     },
     "execution_count": 8,
     "metadata": {},
     "output_type": "execute_result"
    }
   ],
   "source": [
    "db.insert({'name': 'John', 'rank': 2})"
   ]
  },
  {
   "cell_type": "code",
   "execution_count": 25,
   "id": "2cf937b3-600f-48f0-9337-5567a72449c5",
   "metadata": {},
   "outputs": [],
   "source": [
    "table=db.table('requirements')"
   ]
  },
  {
   "cell_type": "code",
   "execution_count": 27,
   "id": "4a3f3af4-47be-4ab4-aa89-ca7d3d228880",
   "metadata": {},
   "outputs": [
    {
     "data": {
      "text/plain": [
       "tinydb.table.Table"
      ]
     },
     "execution_count": 27,
     "metadata": {},
     "output_type": "execute_result"
    }
   ],
   "source": [
    "type(table)"
   ]
  },
  {
   "cell_type": "code",
   "execution_count": 28,
   "id": "31737b63-de97-431e-b226-75519a93c77a",
   "metadata": {},
   "outputs": [
    {
     "data": {
      "text/plain": [
       "<Table name='requirements', total=1, storage=<tinydb.middlewares.CachingMiddleware object at 0x7f99f8887eb0>>"
      ]
     },
     "execution_count": 28,
     "metadata": {},
     "output_type": "execute_result"
    }
   ],
   "source": [
    "table"
   ]
  },
  {
   "cell_type": "code",
   "execution_count": 29,
   "id": "a16edefa-ffa4-48ca-a105-0b59449aa581",
   "metadata": {},
   "outputs": [
    {
     "name": "stdout",
     "output_type": "stream",
     "text": [
      "[{'Age': 19, 'Name': 'Alice'}]\n"
     ]
    }
   ],
   "source": [
    "print(table.all())"
   ]
  },
  {
   "cell_type": "code",
   "execution_count": 32,
   "id": "8669f02c-80fe-4308-a784-19a9912f9d1b",
   "metadata": {},
   "outputs": [],
   "source": [
    "q = tinydb.Query()"
   ]
  },
  {
   "cell_type": "code",
   "execution_count": 48,
   "id": "7518a48c-fcc5-405a-b259-0e5c79849b9f",
   "metadata": {},
   "outputs": [
    {
     "name": "stdout",
     "output_type": "stream",
     "text": [
      "Query()\n"
     ]
    }
   ],
   "source": [
    "print(q)"
   ]
  },
  {
   "cell_type": "code",
   "execution_count": null,
   "id": "1e0ed4b1-3f17-485c-b5f2-f62429f47814",
   "metadata": {},
   "outputs": [],
   "source": []
  },
  {
   "cell_type": "code",
   "execution_count": 35,
   "id": "1fef1586-66e6-4d5e-933e-0613b5ba489b",
   "metadata": {},
   "outputs": [
    {
     "name": "stdout",
     "output_type": "stream",
     "text": [
      "[{'name': 'John', 'rank': 2}, {'name': 'John', 'rank': 2}]\n"
     ]
    }
   ],
   "source": [
    "result = db.search(q.name == 'John')\n",
    "print (result)"
   ]
  },
  {
   "cell_type": "code",
   "execution_count": 36,
   "id": "7959d69e-6da8-4332-82f9-0ebaa48d386b",
   "metadata": {},
   "outputs": [
    {
     "name": "stdout",
     "output_type": "stream",
     "text": [
      "<TinyDB tables=['requirements', '_default', 'version'], tables_count=3, default_table_documents_count=2, all_tables_documents_count=['requirements=1', '_default=2', 'version=1']>\n"
     ]
    }
   ],
   "source": [
    "print(db)"
   ]
  },
  {
   "cell_type": "code",
   "execution_count": null,
   "id": "16643b64-bd42-450b-a38d-bac3b7174246",
   "metadata": {},
   "outputs": [],
   "source": []
  },
  {
   "cell_type": "code",
   "execution_count": 37,
   "id": "b4fdbbeb-bc34-48b8-b16d-0b121d351650",
   "metadata": {},
   "outputs": [
    {
     "name": "stdout",
     "output_type": "stream",
     "text": [
      "[{'name': 'John', 'rank': 2}, {'name': 'John', 'rank': 2}]\n"
     ]
    }
   ],
   "source": [
    "print(db.all())"
   ]
  },
  {
   "cell_type": "code",
   "execution_count": 38,
   "id": "efa08be9-972a-4219-86d3-b6928f259b7e",
   "metadata": {},
   "outputs": [
    {
     "data": {
      "text/plain": [
       "[]"
      ]
     },
     "execution_count": 38,
     "metadata": {},
     "output_type": "execute_result"
    }
   ],
   "source": [
    "db.remove(q.name == 'Peter')"
   ]
  },
  {
   "cell_type": "code",
   "execution_count": 39,
   "id": "63e18fab-eec2-448e-bd36-36f0cb49a384",
   "metadata": {},
   "outputs": [
    {
     "data": {
      "text/plain": [
       "2"
      ]
     },
     "execution_count": 39,
     "metadata": {},
     "output_type": "execute_result"
    }
   ],
   "source": [
    "len(db)"
   ]
  },
  {
   "cell_type": "code",
   "execution_count": null,
   "id": "c85503f5-cefc-4580-a24e-2392adb292b0",
   "metadata": {},
   "outputs": [],
   "source": []
  },
  {
   "cell_type": "code",
   "execution_count": null,
   "id": "12f87999-80a7-480e-ab20-2fb7981c9e07",
   "metadata": {},
   "outputs": [],
   "source": []
  },
  {
   "cell_type": "code",
   "execution_count": 43,
   "id": "5252c90a-054b-48ee-a4c8-ec8f9176d87c",
   "metadata": {},
   "outputs": [
    {
     "name": "stdout",
     "output_type": "stream",
     "text": [
      "{'name': 'John', 'rank': 2}\n",
      "{'name': 'John', 'rank': 2}\n"
     ]
    }
   ],
   "source": [
    "for item in db:\n",
    "    print(item)"
   ]
  },
  {
   "cell_type": "code",
   "execution_count": 58,
   "id": "30fdeb30-1eb0-4866-a058-3a880a549098",
   "metadata": {},
   "outputs": [
    {
     "name": "stdout",
     "output_type": "stream",
     "text": [
      "<TinyDB tables=['TABLE 2', 'TABLE 1', '_default', 'fruits'], tables_count=4, default_table_documents_count=3, all_tables_documents_count=['TABLE 2=2', 'TABLE 1=2', '_default=3', 'fruits=8']>\n"
     ]
    }
   ],
   "source": [
    "print(db)"
   ]
  },
  {
   "cell_type": "code",
   "execution_count": 44,
   "id": "ab5fcd5b-cd78-4d0b-8c76-0c9139824d88",
   "metadata": {},
   "outputs": [
    {
     "data": {
      "text/plain": [
       "[1, 2]"
      ]
     },
     "execution_count": 44,
     "metadata": {},
     "output_type": "execute_result"
    }
   ],
   "source": [
    "db.remove(q.name == 'John')"
   ]
  },
  {
   "cell_type": "code",
   "execution_count": 34,
   "id": "6d6b77d0-843f-4f02-888f-5f8727d5f8bf",
   "metadata": {},
   "outputs": [
    {
     "name": "stdout",
     "output_type": "stream",
     "text": [
      "<TinyDB tables=['TABLE 2', 'TABLE 1', '_default', 'fruits'], tables_count=4, default_table_documents_count=1, all_tables_documents_count=['TABLE 2=2', 'TABLE 1=2', '_default=1', 'fruits=7']>\n"
     ]
    }
   ],
   "source": [
    "print(db)"
   ]
  },
  {
   "cell_type": "code",
   "execution_count": 35,
   "id": "82a49b44-556b-49f8-90af-a83e6d3537ab",
   "metadata": {},
   "outputs": [],
   "source": [
    "import datetime\n",
    "\n",
    "class Contact(tinydb.table.Table):\n",
    "    def __init__ (self, name='default_name',\n",
    "                  contact_number='default_contact_number',\n",
    "                  position=None, date_created=None, date_updated=None):\n",
    "        self._name = name\n",
    "        self.contact_number = contact_number\n",
    "        self.position = position\n",
    "        self.date_created = date_created if date_created is not None else datetime.datetime.now().isoformat()\n",
    "        self.date_updated = date_updated if date_updated is not None else datetime.datetime.now().isoformat()\n",
    "\n",
    "    def __repr__ (self) -> str:\n",
    "        return f\"({self.name}, {self.contact_number}, {self.position}, {self.date_created}, {self.date_updated})\"\n"
   ]
  },
  {
   "cell_type": "code",
   "execution_count": 36,
   "id": "1beba604-b57c-49a4-9795-d0c76024ece5",
   "metadata": {},
   "outputs": [],
   "source": [
    "p=Contact()"
   ]
  },
  {
   "cell_type": "code",
   "execution_count": 37,
   "id": "3ca2330f-395a-4bf4-ad5e-e4400d8cb383",
   "metadata": {},
   "outputs": [
    {
     "name": "stdout",
     "output_type": "stream",
     "text": [
      "(default_name, default_contact_number, None, 2022-04-03T23:21:27.258330, 2022-04-03T23:21:27.258337)\n"
     ]
    }
   ],
   "source": [
    "print(p)"
   ]
  },
  {
   "cell_type": "code",
   "execution_count": 38,
   "id": "236d66ac-74cf-4570-934b-e6789c4aab91",
   "metadata": {},
   "outputs": [],
   "source": [
    "from tinydb import TinyDB, Query\n",
    "\n",
    "db = TinyDB('contact-book.json', sort_keys=True, indent=4, separators=(',', ': '))\n",
    "db.default_table_name = 'contact-book'\n",
    "ContactQuery = Query()\n"
   ]
  },
  {
   "cell_type": "code",
   "execution_count": 39,
   "id": "9aec0610-40ee-4a05-99f1-fa6ce47a3c3b",
   "metadata": {},
   "outputs": [],
   "source": [
    "from typing import List"
   ]
  },
  {
   "cell_type": "code",
   "execution_count": 40,
   "id": "d5720693-2776-4880-85d9-bf337e242fd6",
   "metadata": {},
   "outputs": [],
   "source": [
    "def create(contact: Contact) -> None:\n",
    "    contact.position = len(db)+1\n",
    "    new_contact = {\n",
    "        'name': contact.name,\n",
    "        'contact_number': contact.contact_number,\n",
    "        'position': contact.position,\n",
    "        'date_created': contact.date_created,\n",
    "        'date_updated': contact.date_updated\n",
    "    }\n",
    "    db.insert(new_contact)\n",
    "\n",
    "def read() -> List[Contact]:\n",
    "    results = db.all()\n",
    "    contacts = []\n",
    "    for result in results:\n",
    "        new_contact = Contact(result['name'], result['contact_number'], result['position'],\n",
    "                              result['date_created'], result['date_updated'])\n",
    "        contacts.append(new_contact)\n",
    "    return contacts\n",
    "\n",
    "def update(position: int, name: str, contact_number: str) -> None:\n",
    "    if name is not None and contact_number is not None:\n",
    "        db.update({'name': name, 'contact_number': contact_number},\n",
    "                  ContactQuery.position == position)\n",
    "    elif name is not None:\n",
    "        db.update({'name': name}, ContactQuery.position == position)\n",
    "\n",
    "    elif contact_number is not None:\n",
    "        db.update({'contact_number': contact_number},\n",
    "                  ContactQuery.position == position)\n",
    "\n",
    "def delete(position) -> None:\n",
    "    count = len(db)\n",
    "    db.remove(ContactQuery.position == position)\n",
    "    for pos in range(position+1, count):\n",
    "        change_position(pos, pos-1)\n",
    "\n",
    "def change_position(old_position: int, new_position: int) -> None:\n",
    "    db.update({'position': new_position},\n",
    "              ContactQuery.position == old_position)\n"
   ]
  },
  {
   "cell_type": "code",
   "execution_count": 41,
   "id": "fe2e7eef-1992-4141-b3e0-21368e518114",
   "metadata": {},
   "outputs": [
    {
     "name": "stdout",
     "output_type": "stream",
     "text": [
      "(default_name, default_contact_number, None, 2022-04-03T23:21:27.258330, 2022-04-03T23:21:27.258337)\n"
     ]
    }
   ],
   "source": [
    "print(p)"
   ]
  },
  {
   "cell_type": "code",
   "execution_count": 42,
   "id": "bf4bde7d-ac55-4c08-a4f5-499ee50e94c0",
   "metadata": {},
   "outputs": [],
   "source": [
    "c=Contact()"
   ]
  },
  {
   "cell_type": "code",
   "execution_count": 43,
   "id": "31610d2a-6f95-4f5f-8c8c-b4d58fc2c572",
   "metadata": {},
   "outputs": [
    {
     "name": "stdout",
     "output_type": "stream",
     "text": [
      "(default_name, default_contact_number, None, 2022-04-03T23:21:29.757117, 2022-04-03T23:21:29.757123)\n"
     ]
    }
   ],
   "source": [
    "print(c)"
   ]
  },
  {
   "cell_type": "code",
   "execution_count": 44,
   "id": "63f0fb73-d379-445a-bffe-8ab8e87bf52e",
   "metadata": {},
   "outputs": [],
   "source": [
    "create(c)"
   ]
  },
  {
   "cell_type": "code",
   "execution_count": null,
   "id": "2127c031-2694-488f-b19f-e1a9ef75e79e",
   "metadata": {},
   "outputs": [],
   "source": []
  },
  {
   "cell_type": "code",
   "execution_count": 2,
   "id": "ab43f03a-a96b-4736-8508-6b2050b7d3d6",
   "metadata": {},
   "outputs": [],
   "source": [
    "import tinydb"
   ]
  },
  {
   "cell_type": "code",
   "execution_count": null,
   "id": "85492e34-529c-484c-b8cc-019237d8a6a1",
   "metadata": {},
   "outputs": [],
   "source": []
  },
  {
   "cell_type": "code",
   "execution_count": 20,
   "id": "d9ac7c1e-1270-43a4-9ed3-268eb0d2eb30",
   "metadata": {},
   "outputs": [],
   "source": [
    "class Package(tinydb.database.Table):\n",
    "    version='1.2.3'"
   ]
  },
  {
   "cell_type": "code",
   "execution_count": 22,
   "id": "70547b4e-49a9-4eb9-bd51-08bbdd11326f",
   "metadata": {},
   "outputs": [],
   "source": [
    "class Package(tinydb.table.Table):\n",
    "    def __init__(self):\n",
    "        super().__init__(self, name='anam')\n",
    "        #self.name='name'\n",
    "        self.version='1.2.3'"
   ]
  },
  {
   "cell_type": "code",
   "execution_count": 23,
   "id": "96e22452-80ce-49bb-93f7-2b8193853d0f",
   "metadata": {},
   "outputs": [],
   "source": [
    "p=Package()"
   ]
  },
  {
   "cell_type": "code",
   "execution_count": 39,
   "id": "42c11cf9-0858-4210-b161-eb5b28433ee8",
   "metadata": {},
   "outputs": [
    {
     "data": {
      "text/plain": [
       "9"
      ]
     },
     "execution_count": 39,
     "metadata": {},
     "output_type": "execute_result"
    }
   ],
   "source": [
    "db = tinydb.TinyDB('db.json',\n",
    "                   sort_keys=True, indent=4, separators=(',', ': '))\n",
    "\n",
    "table1 = db.table('version')\n",
    "table1.insert({'Name' : '??' , 'Version' : 0.123})\n",
    "\n",
    "\n",
    "table2 = db.table('requirements')\n",
    "table2.insert({'Name' : 'Alice' , 'Age' : 19})\n",
    "table2.insert({'Name' : 'john' , 'Age' : 12})\n",
    "table2.insert({'Name' : 'john2' , 'Age' : 14})"
   ]
  },
  {
   "cell_type": "code",
   "execution_count": 40,
   "id": "8e740831-7afa-4c76-a70f-bbd69e1eb694",
   "metadata": {},
   "outputs": [],
   "source": [
    "#d=tinydb.table.Document(value='val..', doc_id=99)"
   ]
  },
  {
   "cell_type": "code",
   "execution_count": 41,
   "id": "73c854c9-4d19-4e7a-9706-c2bbc5619f3c",
   "metadata": {},
   "outputs": [],
   "source": [
    "#table2.insert(p)"
   ]
  },
  {
   "cell_type": "code",
   "execution_count": 42,
   "id": "61dae71c-f70d-4138-bd43-90e80e36dc96",
   "metadata": {},
   "outputs": [
    {
     "name": "stdout",
     "output_type": "stream",
     "text": [
      "<TinyDB tables=['requirements', 'version'], tables_count=2, default_table_documents_count=0, all_tables_documents_count=['requirements=9', 'version=1']>\n"
     ]
    }
   ],
   "source": [
    "print(db)"
   ]
  },
  {
   "cell_type": "code",
   "execution_count": 49,
   "id": "36181790-aebd-4acd-a0e0-4b93d5af4892",
   "metadata": {},
   "outputs": [
    {
     "name": "stdout",
     "output_type": "stream",
     "text": [
      "Table: requirements\n",
      "Table: _default\n",
      "Table: version\n"
     ]
    }
   ],
   "source": [
    "for t in db.tables():\n",
    "    print('Table: {}'.format(t))\n",
    "    #print(type(t))\n",
    "    for item in db:\n",
    "        print(item)"
   ]
  },
  {
   "cell_type": "code",
   "execution_count": 50,
   "id": "dc8b1d1a-afc6-4d08-a937-ec8137c28df9",
   "metadata": {},
   "outputs": [
    {
     "name": "stdout",
     "output_type": "stream",
     "text": [
      "<TinyDB tables=['requirements', '_default', 'version'], tables_count=3, default_table_documents_count=0, all_tables_documents_count=['requirements=1', '_default=0', 'version=1']>\n"
     ]
    }
   ],
   "source": [
    "print(db)"
   ]
  },
  {
   "cell_type": "code",
   "execution_count": null,
   "id": "b6982550-dc76-48a4-b89d-917370c53dfb",
   "metadata": {},
   "outputs": [],
   "source": []
  },
  {
   "cell_type": "code",
   "execution_count": null,
   "id": "0bb2b3fa-18f0-4027-ac97-e17ccf890e5a",
   "metadata": {},
   "outputs": [],
   "source": []
  }
 ],
 "metadata": {
  "kernelspec": {
   "display_name": "Python 3 (ipykernel)",
   "language": "python",
   "name": "python3"
  },
  "language_info": {
   "codemirror_mode": {
    "name": "ipython",
    "version": 3
   },
   "file_extension": ".py",
   "mimetype": "text/x-python",
   "name": "python",
   "nbconvert_exporter": "python",
   "pygments_lexer": "ipython3",
   "version": "3.9.7"
  }
 },
 "nbformat": 4,
 "nbformat_minor": 5
}
