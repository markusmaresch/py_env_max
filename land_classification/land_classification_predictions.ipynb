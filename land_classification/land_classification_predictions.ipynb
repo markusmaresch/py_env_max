{
 "cells": [
  {
   "cell_type": "code",
   "execution_count": null,
   "id": "da304d38-e449-48e7-a79b-fc5f5b6311f2",
   "metadata": {},
   "outputs": [],
   "source": [
    "# https://towardsdatascience.com/land-cover-classification-using-tensorflow-in-python-791036eaa373"
   ]
  },
  {
   "cell_type": "code",
   "execution_count": null,
   "id": "06d7ea7d-7817-4ab3-ab0f-dec1766e09fb",
   "metadata": {},
   "outputs": [],
   "source": [
    "import os\n",
    "import matplotlib.pyplot as plt\n",
    "from tensorflow.keras.preprocessing import image_dataset_from_directory\n",
    "from tensorflow import keras\n",
    "\n",
    "# =======================================================\n",
    "# load unseen testing data\n",
    "\n",
    "test_data_dir = rf'{os.getcwd()}/data/2750-test'\n",
    "\n",
    "batch_size = 32\n",
    "test_dataset = image_dataset_from_directory(\n",
    "    test_data_dir,\n",
    "    image_size=(64, 64),\n",
    "    batch_size=batch_size,\n",
    "    shuffle=False\n",
    ")\n",
    "\n",
    "# =======================================================\n",
    "# inspect tensorflow testing dataset\n",
    "\n",
    "# get class names and number of classes\n",
    "class_names = test_dataset.class_names\n",
    "num_classes = len(class_names)\n",
    "print(f'number of classes: {num_classes}', class_names)\n",
    "\n",
    "# =======================================================\n",
    "# load trained land cover classification model\n",
    "\n",
    "# load keras model and print summary\n",
    "model = keras.models.load_model(f'{os.getcwd()}/land_cover_model')\n",
    "model.summary()\n",
    "\n",
    "# =======================================================\n",
    "# make predictions\n",
    "\n",
    "# iterate over the test dataset batches\n",
    "for dataset in iter(test_dataset):\n",
    "    # unpack a single batch of images and labels\n",
    "    image_batch, label_batch = dataset\n",
    "\n",
    "    # make predictions on test dataset\n",
    "    y_prob = model.predict(dataset, verbose=1)\n",
    "\n",
    "    # visualize 10 images from dataset\n",
    "    plt.figure()\n",
    "    for i in range(10):\n",
    "        # retrieve ith image from current batch and show\n",
    "        ax = plt.subplot(2, 5, i + 1)\n",
    "        image = image_batch[i].numpy().astype(\"uint8\")\n",
    "        plt.imshow(image)\n",
    "        plt.axis(\"off\")  # turn off axis for clarity\n",
    "\n",
    "        # index of highest probability indicates predicted class\n",
    "        y_class = y_prob[i].argmax()\n",
    "\n",
    "        # display image title with actual and predicted labels\n",
    "        plt.title(f'Actual: {class_names[label_batch[i]][:10]},'\n",
    "                  f'\\nPredicted: {class_names[y_class][:10]}')\n",
    "\n",
    "# show all figures\n",
    "plt.show()"
   ]
  }
 ],
 "metadata": {
  "kernelspec": {
   "display_name": "Python 3 (ipykernel)",
   "language": "python",
   "name": "python3"
  },
  "language_info": {
   "codemirror_mode": {
    "name": "ipython",
    "version": 3
   },
   "file_extension": ".py",
   "mimetype": "text/x-python",
   "name": "python",
   "nbconvert_exporter": "python",
   "pygments_lexer": "ipython3",
   "version": "3.9.7"
  }
 },
 "nbformat": 4,
 "nbformat_minor": 5
}
