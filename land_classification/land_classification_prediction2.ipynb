{
 "cells": [
  {
   "cell_type": "code",
   "execution_count": null,
   "id": "ec296c53-26e7-429f-b849-2e8d759f7d16",
   "metadata": {},
   "outputs": [],
   "source": [
    "# https://towardsdatascience.com/land-cover-classification-using-tensorflow-in-python-791036eaa373"
   ]
  },
  {
   "cell_type": "code",
   "execution_count": null,
   "id": "a628ba35-e076-4465-93a3-ecc9bd5b15cd",
   "metadata": {},
   "outputs": [],
   "source": [
    "# =======================================================\n",
    "# make predictions\n",
    "\n",
    "# iterate over the test dataset batches\n",
    "for dataset in iter(test_dataset):\n",
    "    # unpack a single batch of images and labels\n",
    "    image_batch, label_batch = dataset\n",
    "\n",
    "    # make predictions on test dataset\n",
    "    y_prob = model.predict(dataset, verbose=1)\n",
    "\n",
    "    # visualize 10 images from dataset\n",
    "    plt.figure()\n",
    "    for i in range(10):\n",
    "        # retrieve ith image from current batch and show\n",
    "        ax = plt.subplot(2, 5, i + 1)\n",
    "        image = image_batch[i].numpy().astype(\"uint8\")\n",
    "        plt.imshow(image)\n",
    "        plt.axis(\"off\")  # turn off axis for clarity\n",
    "\n",
    "        # index of highest probability indicates predicted class\n",
    "        y_class = y_prob[i].argmax()\n",
    "\n",
    "        # display image title with actual and predicted labels\n",
    "        plt.title(f'Actual: {class_names[label_batch[i]][:10]},'\n",
    "                  f'\\nPredicted: {class_names[y_class][:10]}')"
   ]
  }
 ],
 "metadata": {
  "kernelspec": {
   "display_name": "Python 3 (ipykernel)",
   "language": "python",
   "name": "python3"
  },
  "language_info": {
   "codemirror_mode": {
    "name": "ipython",
    "version": 3
   },
   "file_extension": ".py",
   "mimetype": "text/x-python",
   "name": "python",
   "nbconvert_exporter": "python",
   "pygments_lexer": "ipython3",
   "version": "3.9.7"
  }
 },
 "nbformat": 4,
 "nbformat_minor": 5
}
