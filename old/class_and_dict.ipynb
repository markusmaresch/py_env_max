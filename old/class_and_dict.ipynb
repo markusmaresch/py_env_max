{
 "cells": [
  {
   "cell_type": "code",
   "execution_count": 1,
   "id": "14d6fc79-ec84-40c9-93e2-48b54659042a",
   "metadata": {},
   "outputs": [],
   "source": [
    "import json\n",
    "import sys"
   ]
  },
  {
   "cell_type": "code",
   "execution_count": 2,
   "id": "e1ff6b1b-ab10-408d-b186-3bf0c86a2eb2",
   "metadata": {},
   "outputs": [],
   "source": [
    "import time\n",
    "#time.time()"
   ]
  },
  {
   "cell_type": "markdown",
   "id": "2b605163-6f94-4e35-b1be-17538216b4fe",
   "metadata": {},
   "source": [
    "https://stackoverflow.com/questions/1305532/convert-nested-python-dict-to-object"
   ]
  },
  {
   "cell_type": "code",
   "execution_count": 3,
   "id": "29f4cbc9-9f30-4106-9c0f-f782b28c8f16",
   "metadata": {},
   "outputs": [],
   "source": [
    "class Constraints:\n",
    "    def __init__(self, package: str, requires: str):\n",
    "        self.package = package\n",
    "        self.requires = requires\n",
    "\n",
    "\n",
    "class Locked:\n",
    "    def __init__(self):\n",
    "        self.checked_time = 0  # int(time.time())\n",
    "        self.constraints = [Constraints('tensorflow', '<1.19'),\n",
    "                            Constraints('whatever', '>= 1.18')]\n",
    "        return"
   ]
  },
  {
   "cell_type": "code",
   "execution_count": 4,
   "id": "4cf83816-427f-4cbc-b24e-3f0a81e61afa",
   "metadata": {},
   "outputs": [],
   "source": [
    "class Package(object):\n",
    "    #def __init__(self):\n",
    "    #    self.name = 'numpy'\n",
    "    #    self.version_installed = '1.19.2'\n",
    "    #    self.locked = Locked()\n",
    "    #    return\n",
    "    \n",
    "    def get_json(self) -> str:\n",
    "        j = json.loads(json.dumps(self, default=lambda o: getattr(o, '__dict__', str(o))))\n",
    "        return json.dumps(j, indent=1)\n",
    "    \n",
    "    def __init__(self, data):\n",
    "        for name, value in data.items():\n",
    "            setattr(self, name, self._wrap(value))\n",
    "\n",
    "    def _wrap(self, value):\n",
    "        if isinstance(value, (tuple, list, set, frozenset)): \n",
    "            return type(value)([self._wrap(v) for v in value])\n",
    "        else:\n",
    "            return Package(value) if isinstance(value, dict) else value"
   ]
  },
  {
   "cell_type": "code",
   "execution_count": 5,
   "id": "10edb53f-38f4-44f1-b3e9-82c8891fa936",
   "metadata": {},
   "outputs": [],
   "source": [
    "p = Package({'name': 'numpy', 'version_installed': '1.19.2'})"
   ]
  },
  {
   "cell_type": "code",
   "execution_count": 6,
   "id": "1d8bd584-9382-4b1b-9005-bdea7a9d500e",
   "metadata": {},
   "outputs": [],
   "source": [
    "j = p.get_json()"
   ]
  },
  {
   "cell_type": "code",
   "execution_count": 7,
   "id": "08ea903f-3638-4fdd-b845-48ac999bcab4",
   "metadata": {},
   "outputs": [
    {
     "name": "stdout",
     "output_type": "stream",
     "text": [
      "{\n",
      " \"name\": \"numpy\",\n",
      " \"version_installed\": \"1.19.2\"\n",
      "}\n"
     ]
    }
   ],
   "source": [
    "print(j)"
   ]
  },
  {
   "cell_type": "code",
   "execution_count": 8,
   "id": "4f83ac0a-fed8-45ab-93d7-2707f7084a44",
   "metadata": {},
   "outputs": [
    {
     "data": {
      "text/plain": [
       "'\"{\\\\n \\\\\"name\\\\\": \\\\\"numpy\\\\\",\\\\n \\\\\"version_installed\\\\\": \\\\\"1.19.2\\\\\"\\\\n}\"'"
      ]
     },
     "execution_count": 8,
     "metadata": {},
     "output_type": "execute_result"
    }
   ],
   "source": [
    "json.dumps(j)"
   ]
  },
  {
   "cell_type": "code",
   "execution_count": 9,
   "id": "3c3a1605-fc4d-4996-9ddd-62ca779eb7bd",
   "metadata": {},
   "outputs": [],
   "source": [
    "j2 = json.loads(j)"
   ]
  },
  {
   "cell_type": "code",
   "execution_count": 10,
   "id": "19f37272-c2ec-4874-bd77-047bb12b76b3",
   "metadata": {},
   "outputs": [
    {
     "data": {
      "text/plain": [
       "{'name': 'numpy', 'version_installed': '1.19.2'}"
      ]
     },
     "execution_count": 10,
     "metadata": {},
     "output_type": "execute_result"
    }
   ],
   "source": [
    "j2"
   ]
  },
  {
   "cell_type": "code",
   "execution_count": 11,
   "id": "1d5c2b77-44a8-4786-a235-c39a0ec81dac",
   "metadata": {},
   "outputs": [
    {
     "data": {
      "text/plain": [
       "dict"
      ]
     },
     "execution_count": 11,
     "metadata": {},
     "output_type": "execute_result"
    }
   ],
   "source": [
    "type(j2)"
   ]
  },
  {
   "cell_type": "code",
   "execution_count": 12,
   "id": "c2a621a9-2c49-491c-82ad-d707ccba7879",
   "metadata": {},
   "outputs": [],
   "source": [
    "p2=Package(j2)"
   ]
  },
  {
   "cell_type": "code",
   "execution_count": 13,
   "id": "f47bcfb7-9565-445c-96ad-50405594d590",
   "metadata": {},
   "outputs": [
    {
     "data": {
      "text/plain": [
       "__main__.Package"
      ]
     },
     "execution_count": 13,
     "metadata": {},
     "output_type": "execute_result"
    }
   ],
   "source": [
    "type(p2)"
   ]
  },
  {
   "cell_type": "code",
   "execution_count": 14,
   "id": "eb2c0ca2-8834-403f-8c74-f957b64f745d",
   "metadata": {},
   "outputs": [
    {
     "name": "stdout",
     "output_type": "stream",
     "text": [
      "<__main__.Package object at 0x7f85e03d36d0>\n"
     ]
    }
   ],
   "source": [
    "print(p2)"
   ]
  },
  {
   "cell_type": "code",
   "execution_count": 15,
   "id": "f4f99b8e-3810-4bc9-8db3-430521ca7db5",
   "metadata": {},
   "outputs": [
    {
     "data": {
      "text/plain": [
       "{'name': 'numpy', 'version_installed': '1.19.2'}"
      ]
     },
     "execution_count": 15,
     "metadata": {},
     "output_type": "execute_result"
    }
   ],
   "source": [
    "vars(p2)"
   ]
  },
  {
   "cell_type": "code",
   "execution_count": null,
   "id": "10392096-cc41-4544-9640-447b6d7c5306",
   "metadata": {},
   "outputs": [],
   "source": []
  }
 ],
 "metadata": {
  "kernelspec": {
   "display_name": "Python 3 (ipykernel)",
   "language": "python",
   "name": "python3"
  },
  "language_info": {
   "codemirror_mode": {
    "name": "ipython",
    "version": 3
   },
   "file_extension": ".py",
   "mimetype": "text/x-python",
   "name": "python",
   "nbconvert_exporter": "python",
   "pygments_lexer": "ipython3",
   "version": "3.9.7"
  }
 },
 "nbformat": 4,
 "nbformat_minor": 5
}
